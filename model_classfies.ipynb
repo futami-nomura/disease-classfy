{
  "nbformat": 4,
  "nbformat_minor": 0,
  "metadata": {
    "colab": {
      "name": "model_classfies_diseases.ipynb",
      "version": "0.3.2",
      "provenance": []
    },
    "kernelspec": {
      "name": "python3",
      "display_name": "Python 3"
    },
    "accelerator": "GPU"
  },
  "cells": [
    {
      "metadata": {
        "id": "GfznmnZFF-3N",
        "colab_type": "text"
      },
      "cell_type": "markdown",
      "source": [
        "## イネの病気を判別するためのモデル(Model which clasifies the disease of rice plant)\n",
        "The model classfies the diseases of rice plant. Diseases includes \"rice blast\" and \"stripes\".\n",
        "When this program run, artificial intelligence classfies the disease in Flask that is right framework made by python.\n",
        "It depends on images that AI classfies diseases. So, if students would make the model, they must collect clear images about the diseases."
      ]
    },
    {
      "metadata": {
        "id": "Ci6syC_EFyN9",
        "colab_type": "code",
        "colab": {}
      },
      "cell_type": "code",
      "source": [
        "from keras.applications.inception_v3  import InceptionV3\n",
        "from keras.applications.inception_v3 import preprocess_input\n",
        "from keras.models import Sequential, Model\n",
        "from keras.layers import Dense, Dropout, Activation, Flatten\n",
        "from keras.layers import Convolution2D, MaxPooling2D, ZeroPadding2D, GlobalAveragePooling2D, AveragePooling2D\n",
        "from keras.preprocessing.image import ImageDataGenerator\n",
        "from keras.callbacks import ModelCheckpoint, CSVLogger, LearningRateScheduler, ReduceLROnPlateau\n",
        "from keras.optimizers import SGD\n",
        "from keras import optimizers\n",
        "from keras.regularizers import l2\n",
        "import matplotlib.image as mpimg\n",
        "from scipy.misc import imresize\n",
        "from keras.callbacks import EarlyStopping \n",
        "import numpy as np\n",
        "import keras.backend as K\n",
        "import math"
      ],
      "execution_count": 0,
      "outputs": []
    },
    {
      "metadata": {
        "id": "hElT3d6NO8YP",
        "colab_type": "code",
        "colab": {
          "base_uri": "https://localhost:8080/",
          "height": 34
        },
        "outputId": "7d902e36-aff9-40eb-8f90-c3746958124a"
      },
      "cell_type": "code",
      "source": [
        "from google.colab import drive\n",
        "drive.mount('/content/gdrive')"
      ],
      "execution_count": 18,
      "outputs": [
        {
          "output_type": "stream",
          "text": [
            "Drive already mounted at /content/gdrive; to attempt to forcibly remount, call drive.mount(\"/content/gdrive\", force_remount=True).\n"
          ],
          "name": "stdout"
        }
      ]
    },
    {
      "metadata": {
        "id": "IzLpFL4kKYzD",
        "colab_type": "code",
        "colab": {
          "base_uri": "https://localhost:8080/",
          "height": 85
        },
        "outputId": "8b8b43d7-de02-4fdb-b31a-211c4e08aef2"
      },
      "cell_type": "code",
      "source": [
        "## Google Drive内のデータを確認\n",
        "!ls ./gdrive/'My Drive'/\"Colab Notebooks\""
      ],
      "execution_count": 19,
      "outputs": [
        {
          "output_type": "stream",
          "text": [
            "class.ipynb\t\t\triceplantordog.ipynb  validation\n",
            "model\t\t\t\tsaver\t\t      ver\n",
            "model_classfies_diseases.ipynb\ttrain\t\t      verificate.ipynb\n",
            "rice-plant-man.ipynb\t\tUntitled0.ipynb\n"
          ],
          "name": "stdout"
        }
      ]
    },
    {
      "metadata": {
        "id": "8xd8AGPkJFPg",
        "colab_type": "code",
        "colab": {}
      },
      "cell_type": "code",
      "source": [
        "## 多値分類のコードを追加していく\n",
        "\n",
        "### 元モデルをinceptionV3にセット\n",
        "base_model = InceptionV3(weights='imagenet', include_top=False)\n",
        "x = base_model.output\n",
        "x = GlobalAveragePooling2D()(x)\n",
        "x = Dense(1024, activation=\"relu\")(x)\n",
        "x = Dropout(0.5)(x)\n",
        "x = Dense(256, activation=\"relu\")(x)\n",
        "predictions = Dense(3, activation=\"sigmoid\")(x)\n",
        "\n",
        "model = Model(inputs=base_model.input, outputs=predictions)\n",
        "\n",
        "for layer in model.layers[:249]:\n",
        "   layer.trainable = False\n",
        "for layer in model.layers[249:]:\n",
        "   layer.trainable = True\n",
        "\n",
        "model.compile(loss = \"categorical_crossentropy\", optimizer = optimizers.SGD(lr=0.0001, momentum=0.9), metrics=[\"accuracy\"])"
      ],
      "execution_count": 0,
      "outputs": []
    },
    {
      "metadata": {
        "id": "ADwo0T7YJc-x",
        "colab_type": "code",
        "colab": {
          "base_uri": "https://localhost:8080/",
          "height": 34
        },
        "outputId": "ab7e87ee-270e-4e96-bdc1-32646e2b1c29"
      },
      "cell_type": "code",
      "source": [
        "test_datagen = ImageDataGenerator(rescale=1.0 / 255)\n",
        "\n",
        "\n",
        "### 学習用のデータをかさ増し\n",
        "train_datagen = ImageDataGenerator(\n",
        "    rescale = 1./255,\n",
        "    horizontal_flip = True,\n",
        "    fill_mode = \"nearest\",\n",
        "    zoom_range = 0.3,\n",
        "    width_shift_range = 0.3,\n",
        "    height_shift_range=0.3,\n",
        "    rotation_range=90)\n",
        "train_generator = train_datagen.flow_from_directory(\n",
        "    './gdrive/My Drive/Colab Notebooks/train',\n",
        "    target_size = (256, 256), ## デフォルト\n",
        "    batch_size = 32,\n",
        "    class_mode = \"categorical\") ## 多値分類なのでcategoricalに設定"
      ],
      "execution_count": 21,
      "outputs": [
        {
          "output_type": "stream",
          "text": [
            "Found 92 images belonging to 3 classes.\n"
          ],
          "name": "stdout"
        }
      ]
    },
    {
      "metadata": {
        "id": "JrhZIC01QID6",
        "colab_type": "code",
        "colab": {
          "base_uri": "https://localhost:8080/",
          "height": 34
        },
        "outputId": "9f4bd10b-dcf4-495c-d1c8-a39d19ab24e8"
      },
      "cell_type": "code",
      "source": [
        "## 学習用データの水増し\n",
        "validation_generator = test_datagen.flow_from_directory(\n",
        "    './gdrive/My Drive/Colab Notebooks/validation/',\n",
        "    target_size=(256, 256),\n",
        "    batch_size=32,\n",
        "    class_mode='categorical')"
      ],
      "execution_count": 22,
      "outputs": [
        {
          "output_type": "stream",
          "text": [
            "Found 48 images belonging to 3 classes.\n"
          ],
          "name": "stdout"
        }
      ]
    },
    {
      "metadata": {
        "id": "H34f7OMwsLiv",
        "colab_type": "code",
        "colab": {
          "base_uri": "https://localhost:8080/",
          "height": 34
        },
        "outputId": "f97c213d-a4d7-4bf6-cdef-4fbe1f0b50f7"
      },
      "cell_type": "code",
      "source": [
        "print(train_generator.class_indices)"
      ],
      "execution_count": 23,
      "outputs": [
        {
          "output_type": "stream",
          "text": [
            "{'goma': 0, 'imoti': 1, 'shima': 2}\n"
          ],
          "name": "stdout"
        }
      ]
    },
    {
      "metadata": {
        "id": "tWBpDd0OJwmq",
        "colab_type": "code",
        "colab": {
          "base_uri": "https://localhost:8080/",
          "height": 697
        },
        "outputId": "37e98c2b-2481-475d-a201-35b7cbbd13c8"
      },
      "cell_type": "code",
      "source": [
        "checkpoint = ModelCheckpoint(\"./gdrive/My Drive/Colab Notebooks/saver/sep_{epoch:02d}.h5\", monitor='val_acc', verbose=1, save_best_only=True, save_weights_only=False, mode='auto', period=1)\n",
        "early = EarlyStopping(monitor='val_acc', min_delta=0, patience=10, verbose=1, mode='auto')\n",
        "\n",
        "kk = model.fit_generator(train_generator, \n",
        "                   steps_per_epoch=2000, \n",
        "                   epochs=10, \n",
        "                   verbose=1, \n",
        "                   callbacks=[checkpoint, early], \n",
        "                   validation_data=validation_generator, \n",
        "                   validation_steps=800, \n",
        "                   class_weight=None, \n",
        "                   max_queue_size=10, \n",
        "                   workers=1, \n",
        "                   use_multiprocessing=False, \n",
        "                   shuffle=True,\n",
        "                   initial_epoch=0)"
      ],
      "execution_count": 24,
      "outputs": [
        {
          "output_type": "stream",
          "text": [
            "Epoch 1/10\n",
            "2000/2000 [==============================] - 2237s 1s/step - loss: 0.6556 - acc: 0.7393 - val_loss: 1.0722 - val_acc: 0.6042\n",
            "\n",
            "Epoch 00001: val_acc improved from -inf to 0.60417, saving model to ./gdrive/My Drive/Colab Notebooks/saver/sep_01.h5\n",
            "Epoch 2/10\n",
            "2000/2000 [==============================] - 2233s 1s/step - loss: 0.1702 - acc: 0.9418 - val_loss: 1.2571 - val_acc: 0.6458\n",
            "\n",
            "Epoch 00002: val_acc improved from 0.60417 to 0.64583, saving model to ./gdrive/My Drive/Colab Notebooks/saver/sep_02.h5\n",
            "Epoch 3/10\n",
            "2000/2000 [==============================] - 2243s 1s/step - loss: 0.1025 - acc: 0.9629 - val_loss: 1.2915 - val_acc: 0.6667\n",
            "\n",
            "Epoch 00003: val_acc improved from 0.64583 to 0.66667, saving model to ./gdrive/My Drive/Colab Notebooks/saver/sep_03.h5\n",
            "Epoch 4/10\n",
            "2000/2000 [==============================] - 2236s 1s/step - loss: 0.0811 - acc: 0.9673 - val_loss: 1.3838 - val_acc: 0.6667\n",
            "\n",
            "Epoch 00004: val_acc did not improve from 0.66667\n",
            "Epoch 5/10\n",
            "2000/2000 [==============================] - 2232s 1s/step - loss: 0.0701 - acc: 0.9711 - val_loss: 1.4155 - val_acc: 0.7083\n",
            "\n",
            "Epoch 00005: val_acc improved from 0.66667 to 0.70833, saving model to ./gdrive/My Drive/Colab Notebooks/saver/sep_05.h5\n",
            "Epoch 6/10\n",
            "2000/2000 [==============================] - 2234s 1s/step - loss: 0.0662 - acc: 0.9719 - val_loss: 1.4149 - val_acc: 0.6667\n",
            "\n",
            "Epoch 00006: val_acc did not improve from 0.70833\n",
            "Epoch 7/10\n",
            "2000/2000 [==============================] - 2230s 1s/step - loss: 0.0598 - acc: 0.9738 - val_loss: 1.4781 - val_acc: 0.7083\n",
            "\n",
            "Epoch 00007: val_acc did not improve from 0.70833\n",
            "Epoch 8/10\n",
            "2000/2000 [==============================] - 2233s 1s/step - loss: 0.0567 - acc: 0.9747 - val_loss: 1.5185 - val_acc: 0.7083\n",
            "\n",
            "Epoch 00008: val_acc did not improve from 0.70833\n",
            "Epoch 9/10\n",
            "2000/2000 [==============================] - 2235s 1s/step - loss: 0.0542 - acc: 0.9748 - val_loss: 1.5448 - val_acc: 0.7083\n",
            "\n",
            "Epoch 00009: val_acc did not improve from 0.70833\n",
            "Epoch 10/10\n",
            "2000/2000 [==============================] - 2247s 1s/step - loss: 0.0528 - acc: 0.9759 - val_loss: 1.6011 - val_acc: 0.7083\n",
            "\n",
            "Epoch 00010: val_acc did not improve from 0.70833\n"
          ],
          "name": "stdout"
        }
      ]
    },
    {
      "metadata": {
        "id": "heisa7wTZD0A",
        "colab_type": "code",
        "colab": {}
      },
      "cell_type": "code",
      "source": [
        "from matplotlib import pyplot as plt"
      ],
      "execution_count": 0,
      "outputs": []
    },
    {
      "metadata": {
        "id": "v2H15VtcYnay",
        "colab_type": "code",
        "colab": {
          "base_uri": "https://localhost:8080/",
          "height": 735
        },
        "outputId": "74e4846a-6715-4a81-a8e0-6875c244bd94"
      },
      "cell_type": "code",
      "source": [
        "#Accuracy\n",
        "plt.plot(kk.history['acc'])\n",
        "plt.title('model accuracy')\n",
        "plt.ylabel('accuracy')\n",
        "plt.xlabel('epoch')\n",
        "plt.legend(['train', 'test'], loc='upper left')\n",
        "plt.show()\n",
        "#loss\n",
        "plt.plot(kk.history['loss'])\n",
        "plt.title('model loss')\n",
        "plt.ylabel('loss')\n",
        "plt.xlabel('epoch')\n",
        "plt.legend(['train', 'test'], loc='upper left')\n",
        "plt.show()"
      ],
      "execution_count": 26,
      "outputs": [
        {
          "output_type": "display_data",
          "data": {
            "image/png": "[encoded data removed]",
            "text/plain": [
              "<matplotlib.figure.Figure at 0x7fd949bf5320>"
            ]
          },
          "metadata": {
            "tags": []
          }
        },
        {
          "output_type": "display_data",
          "data": {
            "image/png": "[encoded data removed]",
            "text/plain": [
              "<matplotlib.figure.Figure at 0x7fd949bf5630>"
            ]
          },
          "metadata": {
            "tags": []
          }
        }
      ]
    }
  ]
}